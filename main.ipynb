{
 "cells": [
  {
   "cell_type": "markdown",
   "metadata": {},
   "source": [
    "# TP3 - Calibration de caméras"
   ]
  },
  {
   "cell_type": "markdown",
   "metadata": {},
   "source": [
    "OpenCV est une bibliothèque Open Source de vision par ordinateur très utilisée dans les domaines académiques et même dans l’industrie. Elle permet en effet d’utiliser de nombreuses méthodes et algorithmes à la pointe dans les domaines tels que :\n",
    "- le traitement d’images ;\n",
    "- l’analyse vidéo ;\n",
    "- la détection d’objets et/ou de points d’intérêts ;\n",
    "- etc.\n",
    "\n",
    "OpenCV est une bibliothèque découpée en plusieurs modules, dans la séance d’aujourd’hui, nous allons utiliser les modules suivants :\n",
    "- core : le module de base d’OpenCV contenant les classes de base (cv::Mat, etc.) ;\n",
    "- highgui : module contenant les classes des interfaces utilisateurs (fenêtre, gestion clavier et souris, etc.) ;\n",
    "- imgproc : module de traitement d’image (par exemple conversion d’une image couleur vers niveaux de gris, etc.) ;\n",
    "- calib3d : module de calibration 3D et stéréoscopique (détection d’un échiquier, etc.).\n",
    "\n",
    "Tout au long du TP merci de vous référer à la documentation OpenCV [https://docs.opencv.org/4.x/](https://docs.opencv.org/4.x/)\n"
   ]
  },
  {
   "cell_type": "markdown",
   "metadata": {},
   "source": [
    "## 1/ Prise en main - Lecture vidéo et fichiers images"
   ]
  },
  {
   "cell_type": "markdown",
   "metadata": {},
   "source": [
    "Dans cette partie, nous allons vous familiariser avec l’utilisation d’OpenCV. Pour ce faire,\n",
    "nous allons vous faire écrire une application qui va :\n",
    "- afficher les images issues d’une caméra ou de différents fichiers en boucle jusqu’à ce\n",
    "que l’utilisateur appuie sur la touche 'esc' ;\n",
    "- convertir une image couleur en niveaux de gris ;\n",
    "- offrir la possibilité à l’utilisateur de choisir entre l’affichage de l’image en couleur ou\n",
    "l’image en niveaux de gris ;\n",
    "- libérer proprement les ressources avant de quitter votre programme.\n"
   ]
  },
  {
   "cell_type": "markdown",
   "metadata": {},
   "source": [
    "### 1.1/ Squelette de l'application"
   ]
  },
  {
   "cell_type": "markdown",
   "metadata": {},
   "source": [
    "A partir des exemples du TP2, créez un fichier OpenCV-calibration-part1.cpp (et le fichier\n",
    "Cmake correspondant).\n",
    "Commencez par inclure les entêtes OpenCV que nous allons utiliser :\n",
    "```\n",
    "// OpenCV core module (matrices, etc.)\n",
    "#include <opencv2/core/core.hpp>\n",
    "// OpenCV highgui: user interface, windows, etc.\n",
    "#include <opencv2/highgui/highgui.hpp>\n",
    "// OpenCV image processing (converting to grayscale, etc.)\n",
    "#include <opencv2/imgproc/imgproc.hpp>\n",
    "// IO\n",
    "#include <iostream>\n",
    "using namespace std;\n",
    "using namespace cv;\n",
    "```\n",
    "Vous aurez également besoin de définir une constante représentant le code ASCII de la touche\n",
    "```\n",
    "’ESC’ et espace du clavier, que nous voulons pouvoir reconnaitre pour quitter l’application :\n",
    "// the ASCCI code for the escape and space key\n",
    "#define ESC_KEY 27\n",
    "#define SPC_KEY 32\n",
    "```\n",
    "Nous avons besoin de définir une variable qui va nous permettre de récupérer une touche\n",
    "pressée par l’utilisateur :\n",
    "```\n",
    "// A key that we use to store the user keyboard input\n",
    "char key;\n",
    "```\n",
    "Définissez maintenant la méthode principale de notre application :\n",
    "```\n",
    "// The main function\n",
    "int main(int argc, char** argv) {\n",
    "    // define variables\n",
    "    char key;\n",
    "\n",
    "    // Starting the code\n",
    "\n",
    "    // exiting the program\n",
    "    return EXIT_SUCCESS;\n",
    "}\n",
    "```"
   ]
  },
  {
   "cell_type": "code",
   "execution_count": 7,
   "metadata": {},
   "outputs": [],
   "source": [
    "import cv2\n",
    "import numpy as np\n",
    "import os\n",
    "\n",
    "# Constantes\n",
    "ESC_KEY = 27  # Code ASCII pour la touche ESC\n",
    "SPC_KEY = 32  # Code ASCII pour la touche ESPACE"
   ]
  },
  {
   "cell_type": "markdown",
   "metadata": {},
   "source": [
    "### 1.2/ Affichage du flux vidéo"
   ]
  },
  {
   "cell_type": "markdown",
   "metadata": {},
   "source": [
    "Dans un premier temps, nous voulons pouvoir récupérer le flux d’une caméra vidéo (assurez-\n",
    "vous d’en avoir une connectée à votre ordinateur). Pour ce faire, nous allons utiliser la classe\n",
    "VideoCapture du module Highgui d’OpenCV.\n",
    "Définissez la variable suivante :\n",
    "\n",
    "```\n",
    "// Declaring a VideoCapture object\n",
    "// it can open a camera feed\n",
    "// or a video file if there is a codec on the machine\n",
    "VideoCapture cap;\n",
    "```"
   ]
  },
  {
   "cell_type": "markdown",
   "metadata": {},
   "source": [
    "Un objet de type VideoCapture peut ouvrir le flux d’une caméra connectée à l’ordinateur,\n",
    "ou bien ouvrir un fichier vidéo. Nous allons l’utiliser dans le premier cas de figure ici, mais vous pourrez essayer par vous-même d’ouvrir un fichier vidéo.\n",
    "\n",
    "Pour ce faire, nous allons utiliser la méthode open dont la documentation est ici : https://docs.opencv.org/4.x/d8/dfe/classcv_1_1VideoCapture.html\n",
    "\n",
    "Cette méthode prend en paramètre soit :\n",
    "- une chaine de caractères (std::string) contenant le nom du fichier vidéo que l’on\n",
    "souhaite ouvrir ;\n",
    "- un entier représentant l’identifiant du dispositif (caméra) que l’on souhaite ouvrir (en\n",
    "schématisant : indice de la ou des caméra(s) connectée(s), commençant à 0)."
   ]
  },
  {
   "cell_type": "markdown",
   "metadata": {},
   "source": [
    "Vérifiez ensuite que la capture a pu être effectuée. Pour ce faire, utilisez la méthode `cap.isOpened()`\n",
    "retournant un booléen permettant de savoir si tout s’est bien passé.\n",
    "\n",
    "Modifiez votre programme pour demander en boucle à l’utilisateur un numéro de caméra\n",
    "tant que la capture n’est pas ouverte (ou -1 pour arrêter complètement l’application).\n",
    "Avant toute chose, nous souhaitons manipuler des images issues de la caméra. Pour ce faire,\n",
    "déclarez deux objets de type `Mat` qui permettent de stocker des images en OpenCV.\n",
    "\n",
    "```\n",
    "// The current image\n",
    "// retrieved from the video capture\n",
    "// or read from a file\n",
    "Mat image;\n",
    "// The image converted into grayscale (see if we use it)\n",
    "Mat gray_image;\n",
    "```\n"
   ]
  },
  {
   "cell_type": "markdown",
   "metadata": {},
   "source": [
    "Nous allons aussi avoir besoin d’une fenêtre pour afficher les résultats, pour ce faire, nous allons utiliser la méthode namedWindow du module highgui, qui permet de créer une fenêtre,\n",
    "laquelle est identifiée par une chaîne de caractères représentant son titre :\n",
    "\n",
    "```\n",
    "// Creating a window to display the images\n",
    "windowName = \"OpenCV Calibration\";\n",
    "namedWindow(windowName, CV_WINDOW_AUTOSIZE);\n",
    "```"
   ]
  },
  {
   "cell_type": "markdown",
   "metadata": {},
   "source": [
    "La fenêtre ne doit être créée qu’une seule fois !\n",
    "\n",
    "Pour afficher une image dans une fenêtre préalablement créée, on utilisera la méthode imshow du module highgui. Cette méthode prend en paramètre le nom de la fenêtre dans laquelle on veut afficher, et l’image que l’on souhaite afficher. Par exemple, (on supposera que image contient bel et bien une image) :\n",
    "\n",
    "```\n",
    "// Showing the image in the window\n",
    "imshow(windowName,image);\n",
    "```"
   ]
  },
  {
   "cell_type": "markdown",
   "metadata": {},
   "source": [
    "Enfin, pour extraire une image de la capture, il suffit d’utiliser l’opérateur `>>` de la classe `VideoCapture` :\n",
    "\n",
    "```\n",
    "// Getting the new image from the camera\n",
    "cap » image;\n",
    "```"
   ]
  },
  {
   "cell_type": "markdown",
   "metadata": {},
   "source": [
    "Remarque : vous pouvez également utiliser la méthode read (à la place de l’opérateur ») de\n",
    "la classe `VideoCapture` :\n",
    "\n",
    "```\n",
    "// Getting the new image from the camera\n",
    "cap.read(image);\n",
    "```"
   ]
  },
  {
   "cell_type": "markdown",
   "metadata": {},
   "source": [
    "La dernière chose que vous devez mettre en uvre est d’encapsuler la récupération d’une\n",
    "image, puis son affichage dans une boucle. Cette dernière doit s’arrêter lorsque l’utilisateur appuie sur la touche ’ESC’ de son clavier. Pour pouvoir récupérer les entrées clavier de l’utilisateur, nous allons utiliser une nouvelle méthode du module highgui : `waitKey`. Cette méthode prend comme argument un entier qui représente le délai pendant lequel la méthode va attendre un évènement utilisateur. Si cet entier est négatif ou nul, alors la méthode est bloquante, et `waitKey` attend indéfiniment pour l’évènement.\n",
    "\n",
    "Enfin, afin de libérer les ressources que vous avez allouées pendant la création de cette\n",
    "application, n’oubliez pas d’appeler les méthodes suivantes, pour libérer successivement les fenêtres que vous avez créées, et la capture vidéo :\n",
    "\n",
    "```\n",
    "// Destroying the windows\n",
    "destroyWindow(windowName);\n",
    "// Releasing the video capture\n",
    "cap.release();\n",
    "```"
   ]
  },
  {
   "cell_type": "markdown",
   "metadata": {},
   "source": [
    "Vous devriez maintenant voir le flux vidéo de votre webcam s’afficher dans la fenêtre OpenCV créée.\n",
    "\n",
    "Nous allons rajouter une dernière étape à notre affichage de flux vidéo : la possibilité de\n",
    "transformer notre image en niveaux de gris, et de choisir si l’on souhaite afficher l’image en couleurs ou en niveaux de gris. La conversion d’une image de couleur en niveaux de gris est très simple en OpenCV, il suffit d’utiliser la méthode `cvtColor` du module `imgproc`. Cette méthode prend en entrée l’image à convertir, l’image résultante et un paramètre déterminant les différentes options de conversion (voir la documentation pour plus de détails)\n",
    "\n",
    "Ajoutez dans votre code la ligne qui permet de convertir la matrice `image` en une matrice\n",
    "`gray_image` en niveaux de gris.\n",
    "\n",
    "Enfin, nous voulons que lorsque l’utilisateur appuie sur la touche ’g’ alors on affiche l’image en niveaux de gris. Si l’on appuie une nouvelle fois sur ’g’, alors on réaffiche l’image en couleurs. Notez que la fonction `waitKey` retourne un caractère.\n",
    "\n",
    "**Vous rendrez le code de cette première partie et ajouterez des captures d’écrans\n",
    "dans votre compte rendu pour montrer le bon fonctionnement de votre code.**"
   ]
  },
  {
   "cell_type": "code",
   "execution_count": 4,
   "metadata": {},
   "outputs": [],
   "source": [
    "if __name__ == \"__main__\":\n",
    "    # Initialiser la caméra\n",
    "    cap = cv2.VideoCapture(0)\n",
    "    if not cap.isOpened():\n",
    "        print(\"Impossible d'ouvrir la caméra\")\n",
    "        exit()\n",
    "    \n",
    "    # Créer une fenêtre\n",
    "    window_name = \"Calibration de la camera\"\n",
    "    cv2.namedWindow(window_name, cv2.WINDOW_AUTOSIZE)\n",
    "    \n",
    "    # Variables pour le basculement en niveaux de gris\n",
    "    is_grayscale = False\n",
    "\n",
    "    while True:\n",
    "        ret, frame = cap.read()\n",
    "        if not ret:\n",
    "            print(\"Impossible de recevoir l'image (fin du flux?). Sortie ...\")\n",
    "            break\n",
    "\n",
    "        # Convertir en niveaux de gris si le basculement est actif\n",
    "        gray_frame = cv2.cvtColor(frame, cv2.COLOR_BGR2GRAY)\n",
    "        display_frame = gray_frame if is_grayscale else frame\n",
    "\n",
    "        # Afficher l'image\n",
    "        cv2.imshow(window_name, display_frame)\n",
    "\n",
    "        # Vérifier l'entrée utilisateur\n",
    "        key = cv2.waitKey(1)\n",
    "        if key == ESC_KEY:  # Sortir sur ESC\n",
    "            break\n",
    "        elif key == ord('g'):  # Basculer en niveaux de gris sur 'g'\n",
    "            is_grayscale = not is_grayscale\n",
    "\n",
    "    # Libérer les ressources\n",
    "    cap.release()\n",
    "    cv2.destroyAllWindows()"
   ]
  },
  {
   "cell_type": "markdown",
   "metadata": {},
   "source": [
    "Résultats avec couleurs :\n",
    "\n",
    "![Image en couleurs](cam_avec_couleurs.png)"
   ]
  },
  {
   "cell_type": "markdown",
   "metadata": {},
   "source": [
    "Résultats en nuances de gris après l'appui sur la touche 'g' :\n",
    "\n",
    "![Image en nuances de gris](cam_avec_nuances_gris.png)\n",
    "\n",
    "*Qu'est ce que je vais faire de tout cet argent*"
   ]
  },
  {
   "cell_type": "markdown",
   "metadata": {},
   "source": [
    "### 1.3/ Affichage de photos"
   ]
  },
  {
   "cell_type": "markdown",
   "metadata": {},
   "source": [
    "Dans cette deuxième partie de prise en main, nous allons modifier notre programme afin d’afficher des fichiers image à la place d’un flux vidéo. Pour ce faire, vous utiliserez les images fournies sur le serveur pédagogique dans le dossier \"calib_gopro\". Créez un nouveau main à partir du travail de la partie précédente.\n",
    "\n",
    "Pour lire un fichier image, nous allons utiliser la méthode `imread` du module highgui.\n",
    "\n",
    "Modifiez votre méthode main afin que votre boucle d’affichage du flux vidéo de la caméra,\n",
    "affiche en boucle les images contenues dans le dossier \"calib_gopro\". Ces images sont toutes nommées GOPR84, suivi d’un numéro (précédé de 0 pour les numéros inférieurs à 10) puis possèdent l’extension .JPG. Il existe 27 images allant de GOPR8401.JPG à GOPR8427.JPG.\n",
    "\n",
    "Pour cette partie, il se peut que vous deviez utiliser une méthode de conversion d’un nombre entier en chaine de caractères. Cela est faisable grâce à la méthode `to_string` de la bibliothèque standard de C++ (depuis C++11) :\n",
    "\n",
    "```\n",
    "std::string msg = \"bli\";\n",
    "int monEntier = 12;\n",
    "bli += std::to_string(monEntier));\n",
    "```\n",
    "\n",
    "**Vous rendrez également le code de cette deuxième partie.**"
   ]
  },
  {
   "cell_type": "code",
   "execution_count": 10,
   "metadata": {},
   "outputs": [],
   "source": [
    "def display_images(image_folder):\n",
    "    \"\"\"\n",
    "    Affiche les images d'un dossier en boucle dans une fenêtre.\n",
    "    :param image_folder: Chemin vers le dossier contenant les images.\n",
    "    \"\"\"\n",
    "    # Liste des fichiers d'images\n",
    "    image_files = sorted([f for f in os.listdir(image_folder) if f.endswith('.JPG')])\n",
    "\n",
    "    if not image_files:\n",
    "        print(\"Aucune image trouvée dans le dossier spécifié.\")\n",
    "        return\n",
    "\n",
    "    # Nom de la fenêtre\n",
    "    window_name = \"Image Viewer\"\n",
    "    cv2.namedWindow(window_name, cv2.WINDOW_AUTOSIZE)\n",
    "\n",
    "    # Index pour parcourir les images\n",
    "    index = 0\n",
    "    total_images = len(image_files)\n",
    "\n",
    "    while True:\n",
    "        # Chargement de l'image courante\n",
    "        image_path = os.path.join(image_folder, image_files[index])\n",
    "        image = cv2.imread(image_path)\n",
    "\n",
    "        if image is None:\n",
    "            print(f\"Impossible de lire l'image : {image_path}\")\n",
    "            index = (index + 1) % total_images\n",
    "            continue\n",
    "\n",
    "        # Affichage de l'image\n",
    "        cv2.imshow(window_name, image)\n",
    "\n",
    "        # Lecture de l'entrée utilisateur\n",
    "        key = cv2.waitKey(1000)  # Attente de 1 seconde entre chaque image\n",
    "        if key == ESC_KEY:  # Touche ESC pour quitter\n",
    "            break\n",
    "        elif key == SPC_KEY:  # Touche Espace pour passer à l'image suivante\n",
    "            index = (index + 1) % total_images\n",
    "        else:\n",
    "            # Passer automatiquement à l'image suivante après le délai\n",
    "            index = (index + 1) % total_images\n",
    "\n",
    "    # Libération des ressources\n",
    "    cv2.destroyAllWindows()\n",
    "\n",
    "\n",
    "if __name__ == \"__main__\":\n",
    "    # Chemin du dossier contenant les images\n",
    "    folder_path = \"calib_gopro\"  # Remplacez par le chemin de votre dossier d'images\n",
    "    display_images(folder_path)"
   ]
  },
  {
   "cell_type": "markdown",
   "metadata": {},
   "source": [
    "Résultats :\n",
    "\n",
    "![Affichage des images](affichage_images.png)"
   ]
  },
  {
   "cell_type": "markdown",
   "metadata": {},
   "source": [
    "Dans la suite du TP, afin d’illustrer l’intérêt de la calibration de caméra, vous devrez utiliser les photos du dossier \"calib_gopro\", et les comparer avec les résultats que vous obtiendrez sur les autres fichiers d’exemples présents sur le serveur pédagogique."
   ]
  },
  {
   "cell_type": "markdown",
   "metadata": {},
   "source": [
    "## 2/ Calibration d'une caméra en OpenCV"
   ]
  },
  {
   "cell_type": "markdown",
   "metadata": {},
   "source": [
    "Après cette étape de prise en main, nous allons réaliser la calibration de la caméra proprement dite. Nous allons :\n",
    "1. détecter les coins d’un échiquier\n",
    "2. une fois que assez d’images d’échiquiers seront détectées nous allons pouvoir calculer\n",
    "les paramètres intrinsèques de la caméra et les coefficients de distorsion\n",
    "3. redresser l’image de la caméra d’entrée"
   ]
  },
  {
   "cell_type": "markdown",
   "metadata": {},
   "source": [
    "### 2.1/ Détection d'un échiquier"
   ]
  }
 ],
 "metadata": {
  "kernelspec": {
   "display_name": "Python 3",
   "language": "python",
   "name": "python3"
  },
  "language_info": {
   "codemirror_mode": {
    "name": "ipython",
    "version": 3
   },
   "file_extension": ".py",
   "mimetype": "text/x-python",
   "name": "python",
   "nbconvert_exporter": "python",
   "pygments_lexer": "ipython3",
   "version": "3.11.1"
  }
 },
 "nbformat": 4,
 "nbformat_minor": 2
}
